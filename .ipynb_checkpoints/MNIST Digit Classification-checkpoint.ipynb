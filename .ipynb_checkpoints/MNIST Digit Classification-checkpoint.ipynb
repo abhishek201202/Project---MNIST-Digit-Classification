{
 "cells": [
  {
   "cell_type": "markdown",
   "metadata": {},
   "source": [
    "# MNIST text Digit Classification"
   ]
  },
  {
   "cell_type": "markdown",
   "metadata": {},
   "source": [
    "### a) Load the data.........."
   ]
  },
  {
   "cell_type": "raw",
   "metadata": {},
   "source": [
    "##  given a image which contains 1 to 9 digit we have to build a classifier \n",
    "##  to predict what no is written on the image "
   ]
  },
  {
   "cell_type": "code",
   "execution_count": 27,
   "metadata": {},
   "outputs": [],
   "source": [
    "import tensorflow as tf\n",
    "from tensorflow.examples.tutorials.mnist import input_data"
   ]
  },
  {
   "cell_type": "code",
   "execution_count": 2,
   "metadata": {},
   "outputs": [
    {
     "name": "stdout",
     "output_type": "stream",
     "text": [
      "WARNING:tensorflow:From <ipython-input-2-17775101b8b9>:1: read_data_sets (from tensorflow.contrib.learn.python.learn.datasets.mnist) is deprecated and will be removed in a future version.\n",
      "Instructions for updating:\n",
      "Please use alternatives such as official/mnist/dataset.py from tensorflow/models.\n",
      "WARNING:tensorflow:From C:\\Users\\User\\anaconda3\\lib\\site-packages\\tensorflow\\contrib\\learn\\python\\learn\\datasets\\mnist.py:260: maybe_download (from tensorflow.contrib.learn.python.learn.datasets.base) is deprecated and will be removed in a future version.\n",
      "Instructions for updating:\n",
      "Please write your own downloading logic.\n",
      "WARNING:tensorflow:From C:\\Users\\User\\anaconda3\\lib\\site-packages\\tensorflow\\contrib\\learn\\python\\learn\\datasets\\mnist.py:262: extract_images (from tensorflow.contrib.learn.python.learn.datasets.mnist) is deprecated and will be removed in a future version.\n",
      "Instructions for updating:\n",
      "Please use tf.data to implement this functionality.\n",
      "Extracting MNIST_data/train-images-idx3-ubyte.gz\n",
      "WARNING:tensorflow:From C:\\Users\\User\\anaconda3\\lib\\site-packages\\tensorflow\\contrib\\learn\\python\\learn\\datasets\\mnist.py:267: extract_labels (from tensorflow.contrib.learn.python.learn.datasets.mnist) is deprecated and will be removed in a future version.\n",
      "Instructions for updating:\n",
      "Please use tf.data to implement this functionality.\n",
      "Extracting MNIST_data/train-labels-idx1-ubyte.gz\n",
      "WARNING:tensorflow:From C:\\Users\\User\\anaconda3\\lib\\site-packages\\tensorflow\\contrib\\learn\\python\\learn\\datasets\\mnist.py:110: dense_to_one_hot (from tensorflow.contrib.learn.python.learn.datasets.mnist) is deprecated and will be removed in a future version.\n",
      "Instructions for updating:\n",
      "Please use tf.one_hot on tensors.\n",
      "Extracting MNIST_data/t10k-images-idx3-ubyte.gz\n",
      "Extracting MNIST_data/t10k-labels-idx1-ubyte.gz\n",
      "WARNING:tensorflow:From C:\\Users\\User\\anaconda3\\lib\\site-packages\\tensorflow\\contrib\\learn\\python\\learn\\datasets\\mnist.py:290: DataSet.__init__ (from tensorflow.contrib.learn.python.learn.datasets.mnist) is deprecated and will be removed in a future version.\n",
      "Instructions for updating:\n",
      "Please use alternatives such as official/mnist/dataset.py from tensorflow/models.\n"
     ]
    }
   ],
   "source": [
    "mnist = input_data.read_data_sets(\"MNIST_data/\" , one_hot = True)"
   ]
  },
  {
   "cell_type": "raw",
   "metadata": {},
   "source": [
    "# from sklearn.datasets import fetch_mldata \n",
    "# mnist = fetch_mldata('MNIST original', data_home=custom_data_home) \n",
    "# ## will fetch the MNIST dataset"
   ]
  },
  {
   "cell_type": "code",
   "execution_count": 3,
   "metadata": {},
   "outputs": [
    {
     "data": {
      "text/plain": [
       "Datasets(train=<tensorflow.contrib.learn.python.learn.datasets.mnist.DataSet object at 0x000001BD16181F08>, validation=<tensorflow.contrib.learn.python.learn.datasets.mnist.DataSet object at 0x000001BD161878C8>, test=<tensorflow.contrib.learn.python.learn.datasets.mnist.DataSet object at 0x000001BD161874C8>)"
      ]
     },
     "execution_count": 3,
     "metadata": {},
     "output_type": "execute_result"
    }
   ],
   "source": [
    "mnist"
   ]
  },
  {
   "cell_type": "code",
   "execution_count": 4,
   "metadata": {},
   "outputs": [
    {
     "data": {
      "text/plain": [
       "((55000, 784), (55000, 10))"
      ]
     },
     "execution_count": 4,
     "metadata": {},
     "output_type": "execute_result"
    }
   ],
   "source": [
    "mnist.train.images.shape , mnist.train.labels.shape\n",
    "## there are total 55000 flaten images and each images os of dimesion 28 x 28"
   ]
  },
  {
   "cell_type": "code",
   "execution_count": 5,
   "metadata": {},
   "outputs": [
    {
     "data": {
      "text/plain": [
       "array([0., 0., 0., 0., 0., 0., 0., 1., 0., 0.])"
      ]
     },
     "execution_count": 5,
     "metadata": {},
     "output_type": "execute_result"
    }
   ],
   "source": [
    "mnist.train.labels[0] ## labels are hot encoded"
   ]
  },
  {
   "cell_type": "code",
   "execution_count": 6,
   "metadata": {},
   "outputs": [
    {
     "data": {
      "text/plain": [
       "((10000, 784), (10000, 10))"
      ]
     },
     "execution_count": 6,
     "metadata": {},
     "output_type": "execute_result"
    }
   ],
   "source": [
    "mnist.test.images.shape , mnist.test.labels.shape"
   ]
  },
  {
   "cell_type": "code",
   "execution_count": 7,
   "metadata": {},
   "outputs": [
    {
     "data": {
      "text/plain": [
       "(5000, 784)"
      ]
     },
     "execution_count": 7,
     "metadata": {},
     "output_type": "execute_result"
    }
   ],
   "source": [
    "mnist.validation.images.shape"
   ]
  },
  {
   "cell_type": "code",
   "execution_count": 8,
   "metadata": {},
   "outputs": [
    {
     "data": {
      "image/png": "[encoded data removed]",
      "text/plain": [
       "<Figure size 432x288 with 1 Axes>"
      ]
     },
     "metadata": {
      "needs_background": "light"
     },
     "output_type": "display_data"
    }
   ],
   "source": [
    "import numpy as np\n",
    "from matplotlib import pyplot as plt\n",
    "first_image = mnist.train.images[412]\n",
    "first_image = np.array(first_image , dtype = 'float')\n",
    "first_image = first_image.reshape((28 , 28))\n",
    "plt.imshow(first_image)\n",
    "plt.show()"
   ]
  },
  {
   "cell_type": "code",
   "execution_count": 9,
   "metadata": {},
   "outputs": [
    {
     "name": "stdout",
     "output_type": "stream",
     "text": [
      "[[ 1.163568    0.51946586  0.49945053 ... -0.4794342  -1.4662052\n",
      "   1.0500387 ]\n",
      " [-1.1206828  -0.23789042 -1.6842514  ...  0.35870042  0.6935915\n",
      "  -0.10781898]\n",
      " [ 0.817157   -0.8660302  -0.7321077  ...  1.1609097  -1.4961051\n",
      "  -0.08683012]\n",
      " ...\n",
      " [ 1.2753392   1.3234016  -0.98227155 ...  0.17960775 -1.5963558\n",
      "  -0.13026546]\n",
      " [ 0.6787441   0.63536936 -0.09550823 ...  0.95762986 -1.2170489\n",
      "   1.0597452 ]\n",
      " [ 0.0149205   0.25319952  1.1475748  ... -0.5938021  -0.13805698\n",
      "  -0.53822076]]\n"
     ]
    }
   ],
   "source": [
    "## random_normal\n",
    "with tf.Session() as sess:\n",
    "    print(tf.random_normal([784 , 256]).eval())\n"
   ]
  },
  {
   "cell_type": "markdown",
   "metadata": {},
   "source": [
    "### b) Intialising weights and biases"
   ]
  },
  {
   "cell_type": "code",
   "execution_count": 10,
   "metadata": {},
   "outputs": [],
   "source": [
    "n_input = 784\n",
    "n_hidden_1 = 256\n",
    "n_hidden_2 = 256\n",
    "n_classes = 10\n",
    "\n",
    "weights = {\n",
    "    \"h1\" : tf.Variable(tf.random_normal([n_input , n_hidden_1]) ) ,\n",
    "#     \"h1\" : tf.Variable(tf.random_normal([n_input , n_hidden_1]) , trainable = False) ,\n",
    "    \"h2\" : tf.Variable(tf.random_normal([n_hidden_1 , n_hidden_2])) ,\n",
    "    \"out\" : tf.Variable(tf.random_normal([n_hidden_2 , n_classes]))\n",
    "}\n",
    "\n",
    "biases = {\n",
    "    \"h1\" : tf.Variable(tf.random_normal([n_hidden_1])) , \n",
    "    \"h2\" : tf.Variable(tf.random_normal([n_hidden_2])) , \n",
    "    \"out\" : tf.Variable(tf.random_normal([n_classes]))\n",
    "}"
   ]
  },
  {
   "cell_type": "code",
   "execution_count": 11,
   "metadata": {},
   "outputs": [
    {
     "data": {
      "text/plain": [
       "[<tf.Variable 'Variable:0' shape=(784, 256) dtype=float32_ref>,\n",
       " <tf.Variable 'Variable_1:0' shape=(256, 256) dtype=float32_ref>,\n",
       " <tf.Variable 'Variable_2:0' shape=(256, 10) dtype=float32_ref>,\n",
       " <tf.Variable 'Variable_3:0' shape=(256,) dtype=float32_ref>,\n",
       " <tf.Variable 'Variable_4:0' shape=(256,) dtype=float32_ref>,\n",
       " <tf.Variable 'Variable_5:0' shape=(10,) dtype=float32_ref>]"
      ]
     },
     "execution_count": 11,
     "metadata": {},
     "output_type": "execute_result"
    }
   ],
   "source": [
    "tf.trainable_variables()"
   ]
  },
  {
   "cell_type": "markdown",
   "metadata": {},
   "source": [
    "### c) Forward Propagation"
   ]
  },
  {
   "cell_type": "code",
   "execution_count": 12,
   "metadata": {},
   "outputs": [],
   "source": [
    "def forward_propagation(x , weights , biases):\n",
    "    in_layer1 = tf.add(tf.matmul(x , weights[\"h1\"]) , biases[\"h1\"])\n",
    "    out_layer1 = tf.nn.relu(in_layer1)\n",
    "    \n",
    "    in_layer2 = tf.add(tf.matmul(out_layer1 , weights[\"h2\"]) , biases[\"h2\"])\n",
    "    out_layer2 = tf.nn.relu(in_layer2)\n",
    "    \n",
    "    output = tf.add(tf.matmul(out_layer2 , weights[\"out\"]) , biases[\"out\"])\n",
    "    return output"
   ]
  },
  {
   "cell_type": "raw",
   "metadata": {},
   "source": [
    "Having identity activation function on all layers will lead to we learning linear decision boundary. \n",
    "In most problems that would lead to worse results."
   ]
  },
  {
   "cell_type": "markdown",
   "metadata": {},
   "source": [
    "### d) finding the prediction and accuracy"
   ]
  },
  {
   "cell_type": "code",
   "execution_count": 13,
   "metadata": {},
   "outputs": [],
   "source": [
    "sess = tf.Session()\n",
    "sess.run(tf.global_variables_initializer())\n",
    "x = tf.placeholder(\"float\" , [None , n_input])\n",
    "y = tf.placeholder(tf.int32 , [None , n_classes])"
   ]
  },
  {
   "cell_type": "code",
   "execution_count": 14,
   "metadata": {},
   "outputs": [
    {
     "data": {
      "text/plain": [
       "array([5, 1, 5, ..., 1, 7, 1], dtype=int64)"
      ]
     },
     "execution_count": 14,
     "metadata": {},
     "output_type": "execute_result"
    }
   ],
   "source": [
    "## predicted output\n",
    "pred = forward_propagation(x , weights , biases)\n",
    "predictions = tf.argmax(pred , 1)\n",
    "predictions_eval = sess.run(predictions , feed_dict = {x : mnist.test.images})\n",
    "predictions_eval"
   ]
  },
  {
   "cell_type": "code",
   "execution_count": 15,
   "metadata": {},
   "outputs": [
    {
     "data": {
      "text/plain": [
       "array([7, 2, 1, ..., 4, 5, 6], dtype=int64)"
      ]
     },
     "execution_count": 15,
     "metadata": {},
     "output_type": "execute_result"
    }
   ],
   "source": [
    "## actual labels\n",
    "true_labels = tf.argmax(y , 1)\n",
    "labels = sess.run(true_labels , feed_dict = {y : mnist.test.labels})\n",
    "labels"
   ]
  },
  {
   "cell_type": "code",
   "execution_count": 16,
   "metadata": {},
   "outputs": [],
   "source": [
    "## correct prediction\n",
    "correct_predictions = tf.equal(predictions , true_labels)"
   ]
  },
  {
   "cell_type": "code",
   "execution_count": 17,
   "metadata": {},
   "outputs": [
    {
     "data": {
      "text/plain": [
       "(array([5, 1, 5, ..., 1, 7, 1], dtype=int64),\n",
       " array([7, 2, 1, ..., 4, 5, 6], dtype=int64),\n",
       " array([False, False, False, ..., False, False, False]))"
      ]
     },
     "execution_count": 17,
     "metadata": {},
     "output_type": "execute_result"
    }
   ],
   "source": [
    "## other way to run simultanously\n",
    "predictions_eval , labels , correct_pred = sess.run([predictions , true_labels , correct_predictions] , feed_dict = {x : mnist.test.images , y : mnist.test.labels})\n",
    "predictions_eval , labels , correct_pred"
   ]
  },
  {
   "cell_type": "code",
   "execution_count": 18,
   "metadata": {},
   "outputs": [
    {
     "data": {
      "text/plain": [
       "1130"
      ]
     },
     "execution_count": 18,
     "metadata": {},
     "output_type": "execute_result"
    }
   ],
   "source": [
    "## how many we are getting correct\n",
    "correct_pred.sum()"
   ]
  },
  {
   "cell_type": "markdown",
   "metadata": {},
   "source": [
    "### e) cost function"
   ]
  },
  {
   "cell_type": "code",
   "execution_count": 19,
   "metadata": {},
   "outputs": [
    {
     "name": "stdout",
     "output_type": "stream",
     "text": [
      "WARNING:tensorflow:From <ipython-input-19-b845cf64bfb6>:2: softmax_cross_entropy_with_logits (from tensorflow.python.ops.nn_ops) is deprecated and will be removed in a future version.\n",
      "Instructions for updating:\n",
      "\n",
      "Future major versions of TensorFlow will allow gradients to flow\n",
      "into the labels input on backprop by default.\n",
      "\n",
      "See `tf.nn.softmax_cross_entropy_with_logits_v2`.\n",
      "\n"
     ]
    }
   ],
   "source": [
    "## cross entropy function\n",
    "cost = tf.reduce_mean(tf.nn.softmax_cross_entropy_with_logits(logits = pred , labels = y))\n",
    "\n",
    "sess = tf.Session()\n",
    "sess.run(tf.global_variables_initializer())"
   ]
  },
  {
   "cell_type": "code",
   "execution_count": 20,
   "metadata": {},
   "outputs": [
    {
     "data": {
      "text/plain": [
       "1926.4436"
      ]
     },
     "execution_count": 20,
     "metadata": {},
     "output_type": "execute_result"
    }
   ],
   "source": [
    "sess.run(cost , feed_dict = {x : mnist.train.images , y : mnist.train.labels})"
   ]
  },
  {
   "cell_type": "markdown",
   "metadata": {},
   "source": [
    "### f) Running the optimizer"
   ]
  },
  {
   "cell_type": "code",
   "execution_count": 21,
   "metadata": {},
   "outputs": [
    {
     "name": "stdout",
     "output_type": "stream",
     "text": [
      "Extracting MNIST_data/train-images-idx3-ubyte.gz\n",
      "Extracting MNIST_data/train-labels-idx1-ubyte.gz\n",
      "Extracting MNIST_data/t10k-images-idx3-ubyte.gz\n",
      "Extracting MNIST_data/t10k-labels-idx1-ubyte.gz\n",
      "[<tf.Variable 'Variable:0' shape=(784, 256) dtype=float32_ref>, <tf.Variable 'Variable_1:0' shape=(256, 256) dtype=float32_ref>, <tf.Variable 'Variable_2:0' shape=(256, 10) dtype=float32_ref>, <tf.Variable 'Variable_3:0' shape=(256,) dtype=float32_ref>, <tf.Variable 'Variable_4:0' shape=(256,) dtype=float32_ref>, <tf.Variable 'Variable_5:0' shape=(10,) dtype=float32_ref>, <tf.Variable 'Variable_6:0' shape=(784, 256) dtype=float32_ref>, <tf.Variable 'Variable_7:0' shape=(256, 256) dtype=float32_ref>, <tf.Variable 'Variable_8:0' shape=(256, 10) dtype=float32_ref>, <tf.Variable 'Variable_9:0' shape=(256,) dtype=float32_ref>, <tf.Variable 'Variable_10:0' shape=(256,) dtype=float32_ref>, <tf.Variable 'Variable_11:0' shape=(10,) dtype=float32_ref>]\n"
     ]
    }
   ],
   "source": [
    "import tensorflow as tf\n",
    "from tensorflow.examples.tutorials.mnist import input_data\n",
    "mnist = input_data.read_data_sets(\"MNIST_data/\" , one_hot = True)\n",
    "\n",
    "n_input = 784\n",
    "n_hidden_1 = 256\n",
    "n_hidden_2 = 256\n",
    "n_classes = 10\n",
    "\n",
    "weights = {\n",
    "    \"h1\" : tf.Variable(tf.random_normal([n_input , n_hidden_1]) ) ,\n",
    "    \"h2\" : tf.Variable(tf.random_normal([n_hidden_1 , n_hidden_2])) ,\n",
    "    \"out\" : tf.Variable(tf.random_normal([n_hidden_2 , n_classes]))\n",
    "}\n",
    "\n",
    "biases = {\n",
    "    \"h1\" : tf.Variable(tf.random_normal([n_hidden_1])) , \n",
    "    \"h2\" : tf.Variable(tf.random_normal([n_hidden_2])) , \n",
    "    \"out\" : tf.Variable(tf.random_normal([n_classes]))\n",
    "}\n",
    "\n",
    "print(tf.trainable_variables())\n",
    "\n",
    "def forward_propagation(x , weights , biases):\n",
    "    in_layer1 = tf.add(tf.matmul(x , weights[\"h1\"]) , biases[\"h1\"])\n",
    "    out_layer1 = tf.nn.relu(in_layer1)\n",
    "    \n",
    "    in_layer2 = tf.add(tf.matmul(out_layer1 , weights[\"h2\"]) , biases[\"h2\"])\n",
    "    out_layer2 = tf.nn.relu(in_layer2)\n",
    "    \n",
    "    output = tf.add(tf.matmul(out_layer2 , weights[\"out\"]) , biases[\"out\"])\n",
    "    return output\n",
    "\n",
    "x = tf.placeholder(\"float\" , [None , n_input])\n",
    "y = tf.placeholder(tf.int32 , [None , n_classes])\n",
    "pred = forward_propagation(x , weights , biases)\n",
    "\n",
    "cost = tf.reduce_mean(tf.nn.softmax_cross_entropy_with_logits(logits = pred , labels = y))\n",
    "\n",
    "optimizer = tf.train.AdamOptimizer(learning_rate =  0.01)\n",
    "optimize = optimizer.minimize(cost)\n",
    "\n",
    "# minimize function ===>> finds the derivative(slope) values & chnage the values as per the learning rate\n",
    "# and the slopes once\n",
    "## if there is no variable which are trainable then this will give error \n",
    "sess = tf.Session()\n",
    "sess.run(tf.global_variables_initializer())"
   ]
  },
  {
   "cell_type": "code",
   "execution_count": 22,
   "metadata": {},
   "outputs": [
    {
     "name": "stdout",
     "output_type": "stream",
     "text": [
      "1909.2466\n"
     ]
    }
   ],
   "source": [
    "c, _ = sess.run([cost,optimize], feed_dict = {x:mnist.train.images , y:mnist.train.labels})\n",
    "print(c)\n",
    "## every time we run it it will reduce the cost"
   ]
  },
  {
   "cell_type": "markdown",
   "metadata": {},
   "source": [
    "### g) How does the optimizer work ???"
   ]
  },
  {
   "cell_type": "code",
   "execution_count": 23,
   "metadata": {},
   "outputs": [
    {
     "data": {
      "text/plain": [
       "[<tf.Variable 'Variable:0' shape=(784, 256) dtype=float32_ref>,\n",
       " <tf.Variable 'Variable_1:0' shape=(256, 256) dtype=float32_ref>,\n",
       " <tf.Variable 'Variable_2:0' shape=(256, 10) dtype=float32_ref>,\n",
       " <tf.Variable 'Variable_3:0' shape=(256,) dtype=float32_ref>,\n",
       " <tf.Variable 'Variable_4:0' shape=(256,) dtype=float32_ref>,\n",
       " <tf.Variable 'Variable_5:0' shape=(10,) dtype=float32_ref>,\n",
       " <tf.Variable 'Variable_6:0' shape=(784, 256) dtype=float32_ref>,\n",
       " <tf.Variable 'Variable_7:0' shape=(256, 256) dtype=float32_ref>,\n",
       " <tf.Variable 'Variable_8:0' shape=(256, 10) dtype=float32_ref>,\n",
       " <tf.Variable 'Variable_9:0' shape=(256,) dtype=float32_ref>,\n",
       " <tf.Variable 'Variable_10:0' shape=(256,) dtype=float32_ref>,\n",
       " <tf.Variable 'Variable_11:0' shape=(10,) dtype=float32_ref>]"
      ]
     },
     "execution_count": 23,
     "metadata": {},
     "output_type": "execute_result"
    }
   ],
   "source": [
    "## first it will find which variables depends upon cost function and trainable = True\n",
    "tf.trainable_variables()"
   ]
  },
  {
   "cell_type": "markdown",
   "metadata": {},
   "source": [
    "### h) running multiple iteration"
   ]
  },
  {
   "cell_type": "code",
   "execution_count": 24,
   "metadata": {},
   "outputs": [
    {
     "name": "stdout",
     "output_type": "stream",
     "text": [
      "1287.4387\n",
      "993.3718\n",
      "823.77075\n",
      "630.5597\n",
      "498.0017\n",
      "422.03894\n",
      "324.6146\n",
      "243.89357\n",
      "206.42589\n",
      "199.79597\n",
      "201.87659\n",
      "197.06476\n",
      "181.93384\n",
      "163.32506\n",
      "147.52953\n",
      "134.63579\n",
      "122.8302\n",
      "112.28021\n",
      "104.36167\n",
      "99.75114\n",
      "97.71867\n",
      "96.584465\n",
      "94.556015\n",
      "90.68125\n",
      "85.33096\n"
     ]
    }
   ],
   "source": [
    "for i in range(25):\n",
    "    c , _ = sess.run([cost , optimize] , feed_dict = {x : mnist.train.images , y : mnist.train.labels})\n",
    "    print(c)"
   ]
  },
  {
   "cell_type": "code",
   "execution_count": 25,
   "metadata": {},
   "outputs": [
    {
     "data": {
      "text/plain": [
       "8536"
      ]
     },
     "execution_count": 25,
     "metadata": {},
     "output_type": "execute_result"
    }
   ],
   "source": [
    "predictions = tf.argmax(pred , 1)\n",
    "correct_labels = tf.argmax(y , 1)\n",
    "correct_predictions = tf.equal(predictions , correct_labels)\n",
    "predictions , correct_predictions = sess.run([predictions , correct_predictions] , feed_dict = {x : mnist.test.images , y : mnist.test.labels})\n",
    "\n",
    "correct_predictions.sum()"
   ]
  },
  {
   "cell_type": "markdown",
   "metadata": {},
   "source": [
    "### i) Batch gradient descent"
   ]
  },
  {
   "cell_type": "raw",
   "metadata": {},
   "source": [
    "benefit of calling optimize in multiple batches :\n",
    "    it will be faster to reach the results\n",
    "    it will not reach better results irrespective of number of iterations"
   ]
  },
  {
   "cell_type": "code",
   "execution_count": 26,
   "metadata": {},
   "outputs": [
    {
     "name": "stdout",
     "output_type": "stream",
     "text": [
      "15119.32715946436\n",
      "4481.572406394545\n",
      "2514.48060637527\n",
      "1768.2681618012111\n",
      "1394.5199854758264\n",
      "1207.4041570759744\n",
      "987.7292077429545\n",
      "968.7826518540512\n",
      "860.862793349875\n",
      "687.7702338644447\n",
      "623.1387422478576\n",
      "500.2224838250191\n",
      "558.9333610557625\n",
      "444.09650698323\n",
      "477.2283421538824\n",
      "348.8355734739182\n",
      "316.13843687428215\n",
      "349.650730526278\n",
      "223.57271703032205\n",
      "217.3286543977516\n",
      "223.267177965108\n",
      "242.6425401395077\n",
      "186.42863172865722\n",
      "178.1000442850375\n",
      "154.8819588025214\n"
     ]
    },
    {
     "data": {
      "text/plain": [
       "9651"
      ]
     },
     "execution_count": 26,
     "metadata": {},
     "output_type": "execute_result"
    }
   ],
   "source": [
    "batch_size = 100\n",
    "for i in range(25):\n",
    "    num_batches = int(mnist.train.num_examples / batch_size)\n",
    "    total_cost = 0\n",
    "    for j in range(num_batches):\n",
    "        batch_x , batch_y = mnist.train.next_batch(batch_size)\n",
    "        c , _ = sess.run([cost ,optimize] , feed_dict = {x : batch_x , y : batch_y})\n",
    "        total_cost += c\n",
    "    print(total_cost)\n",
    "    \n",
    "predictions = tf.argmax(pred , 1)\n",
    "correct_labels = tf.argmax(y , 1)\n",
    "correct_predictions = tf.equal(predictions , correct_labels)\n",
    "predictions , correct_predictions = sess.run([predictions , correct_predictions] , feed_dict = {x : mnist.test.images , y : mnist.test.labels})\n",
    "\n",
    "correct_predictions.sum()"
   ]
  }
 ],
 "metadata": {
  "kernelspec": {
   "display_name": "Python 3",
   "language": "python",
   "name": "python3"
  },
  "language_info": {
   "codemirror_mode": {
    "name": "ipython",
    "version": 3
   },
   "file_extension": ".py",
   "mimetype": "text/x-python",
   "name": "python",
   "nbconvert_exporter": "python",
   "pygments_lexer": "ipython3",
   "version": "3.7.6"
  }
 },
 "nbformat": 4,
 "nbformat_minor": 2
}
